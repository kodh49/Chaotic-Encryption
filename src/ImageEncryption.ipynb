{
 "cells": [
  {
   "cell_type": "markdown",
   "metadata": {},
   "source": [
    "# Image Encryption / Decryption using RSA & Chaotic Map\n",
    "\n",
    "In this project, I designed a image encryption / decryption tool in Python."
   ]
  },
  {
   "cell_type": "code",
   "execution_count": 32,
   "metadata": {},
   "outputs": [],
   "source": [
    "import numpy as np # Load numpy module\n",
    "import cv2 # Load openCV module"
   ]
  },
  {
   "cell_type": "markdown",
   "metadata": {},
   "source": [
    "### Use cv2 module to load image file\n",
    "cv2.imread() returns a numpy object in BGR sequence.\n",
    "Use cv2.COLOR_BGR2RGB to convert it into RGB sequence."
   ]
  },
  {
   "cell_type": "code",
   "execution_count": 33,
   "metadata": {},
   "outputs": [
    {
     "ename": "AttributeError",
     "evalue": "module 'cv2' has no attribute 'COLOR_'",
     "output_type": "error",
     "traceback": [
      "\u001b[1;31m---------------------------------------------------------------------------\u001b[0m",
      "\u001b[1;31mAttributeError\u001b[0m                            Traceback (most recent call last)",
      "\u001b[1;32md:\\Github\\Chaotic Encryption\\ImageEncryption.ipynb Cell 4'\u001b[0m in \u001b[0;36m<cell line: 1>\u001b[1;34m()\u001b[0m\n\u001b[1;32m----> <a href='vscode-notebook-cell:/d%3A/Github/Chaotic%20Encryption/ImageEncryption.ipynb#ch0000002?line=0'>1</a>\u001b[0m image \u001b[39m=\u001b[39m cv2\u001b[39m.\u001b[39mimread(\u001b[39m\"\u001b[39m\u001b[39mimg/img_01.jpg\u001b[39m\u001b[39m\"\u001b[39m, cv2\u001b[39m.\u001b[39;49mCOLOR_)\n",
      "\u001b[1;31mAttributeError\u001b[0m: module 'cv2' has no attribute 'COLOR_'"
     ]
    }
   ],
   "source": [
    "image = cv2.imread(\"img/img_01.jpg\", cv2.COLOR_BGR2RGB)"
   ]
  },
  {
   "cell_type": "markdown",
   "metadata": {},
   "source": [
    "image = [ [first row : [first column RGB], [second column RGB] ... [last column RGB] ], [second row: [first column RGB], [second column RGB] ... [last column RGB] ] ... ]\n",
    "\n",
    "Select partial regions of the image and manipulate them through chaotic operations"
   ]
  },
  {
   "cell_type": "code",
   "execution_count": null,
   "metadata": {},
   "outputs": [
    {
     "name": "stdout",
     "output_type": "stream",
     "text": [
      "Dimension:  3280 4928 3\n",
      "[[[165 156 146]\n",
      "  [166 157 147]\n",
      "  [169 160 150]\n",
      "  ...\n",
      "  [ 92  93 161]\n",
      "  [ 90  90 160]\n",
      "  [ 88  88 158]]\n",
      "\n",
      " [[163 154 144]\n",
      "  [165 156 146]\n",
      "  [167 158 148]\n",
      "  ...\n",
      "  [ 90  91 159]\n",
      "  [ 93  93 163]\n",
      "  [ 90  90 160]]\n",
      "\n",
      " [[164 155 145]\n",
      "  [165 156 146]\n",
      "  [167 158 148]\n",
      "  ...\n",
      "  [ 90  91 159]\n",
      "  [ 92  93 161]\n",
      "  [ 89  90 158]]\n",
      "\n",
      " ...\n",
      "\n",
      " [[  4   2   2]\n",
      "  [  4   2   2]\n",
      "  [  4   2   2]\n",
      "  ...\n",
      "  [  4   2   2]\n",
      "  [  4   2   2]\n",
      "  [  5   3   3]]\n",
      "\n",
      " [[  4   2   2]\n",
      "  [  4   2   2]\n",
      "  [  3   1   1]\n",
      "  ...\n",
      "  [  5   3   3]\n",
      "  [  5   3   3]\n",
      "  [  4   2   2]]\n",
      "\n",
      " [[  4   2   2]\n",
      "  [  4   2   2]\n",
      "  [  3   1   1]\n",
      "  ...\n",
      "  [  4   2   2]\n",
      "  [  4   2   2]\n",
      "  [  4   2   2]]]\n"
     ]
    }
   ],
   "source": [
    "dimensions = image.shape\n",
    "# Height, Width, number of channels in image\n",
    "height = dimensions[0]\n",
    "width = dimensions[1]\n",
    "channels = dimensions[2]\n",
    "print(\"Dimension: \", height, width, channels)\n",
    "print(image)"
   ]
  },
  {
   "cell_type": "markdown",
   "metadata": {},
   "source": [
    "## Proposed Encrpytion Algorithm\n",
    "\n",
    "The proposed image encryption algorithm is a two-step process."
   ]
  },
  {
   "cell_type": "code",
   "execution_count": 34,
   "metadata": {},
   "outputs": [
    {
     "ename": "AttributeError",
     "evalue": "'map' object has no attribute 'astype'",
     "output_type": "error",
     "traceback": [
      "\u001b[1;31m---------------------------------------------------------------------------\u001b[0m",
      "\u001b[1;31mAttributeError\u001b[0m                            Traceback (most recent call last)",
      "\u001b[1;32md:\\Github\\Chaotic Encryption\\ImageEncryption.ipynb Cell 8'\u001b[0m in \u001b[0;36m<cell line: 1>\u001b[1;34m()\u001b[0m\n\u001b[1;32m----> <a href='vscode-notebook-cell:/d%3A/Github/Chaotic%20Encryption/ImageEncryption.ipynb#ch0000009?line=0'>1</a>\u001b[0m image\u001b[39m.\u001b[39;49mastype(\u001b[39mint\u001b[39m)\n",
      "\u001b[1;31mAttributeError\u001b[0m: 'map' object has no attribute 'astype'"
     ]
    }
   ],
   "source": [
    "image.astype(int)"
   ]
  },
  {
   "cell_type": "markdown",
   "metadata": {},
   "source": []
  }
 ],
 "metadata": {
  "interpreter": {
   "hash": "d9a4ba7a39ad5692da286452aea182a2f639774b342ad6371c4f013f8b98072d"
  },
  "kernelspec": {
   "display_name": "Python 3.10.4 64-bit",
   "language": "python",
   "name": "python3"
  },
  "language_info": {
   "codemirror_mode": {
    "name": "ipython",
    "version": 3
   },
   "file_extension": ".py",
   "mimetype": "text/x-python",
   "name": "python",
   "nbconvert_exporter": "python",
   "pygments_lexer": "ipython3",
   "version": "3.10.4"
  },
  "orig_nbformat": 4
 },
 "nbformat": 4,
 "nbformat_minor": 2
}
